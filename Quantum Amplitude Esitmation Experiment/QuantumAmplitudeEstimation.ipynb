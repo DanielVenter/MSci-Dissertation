{
 "cells": [
  {
   "cell_type": "code",
   "execution_count": null,
   "metadata": {},
   "outputs": [],
   "source": [
    "import numpy as np\n",
    "from qiskit.circuit import QuantumCircuit\n",
    "from qiskit_algorithms import EstimationProblem\n",
    "from qiskit.primitives import Sampler\n",
    "from qiskit_algorithms import AmplitudeEstimation, IterativeAmplitudeEstimation, MaximumLikelihoodAmplitudeEstimation, FasterAmplitudeEstimation\n",
    "\n",
    "import matplotlib.pyplot as plt\n",
    "import pandas as pd\n",
    "\n",
    "from qiskit import transpile"
   ]
  },
  {
   "cell_type": "code",
   "execution_count": null,
   "metadata": {},
   "outputs": [],
   "source": [
    "\n",
    "\n",
    "# Function to convert numbers to ordinal (e.g., 1 -> 1st, 2 -> 2nd, 3 -> 3rd)\n",
    "def ordinal(n):\n",
    "    if 10 <= n % 100 <= 20:  # Handles special cases like 11th, 12th, 13th\n",
    "        suffix = \"th\"\n",
    "    else:\n",
    "        suffix = {1: \"st\", 2: \"nd\", 3: \"rd\"}.get(n % 10, \"th\")\n",
    "    return f\"{n}{suffix}\"\n"
   ]
  },
  {
   "cell_type": "code",
   "execution_count": null,
   "metadata": {},
   "outputs": [],
   "source": [
    "_dpi = 800"
   ]
  },
  {
   "cell_type": "code",
   "execution_count": null,
   "metadata": {},
   "outputs": [],
   "source": [
    "# Experiment Setup\n",
    "p = 0.2"
   ]
  },
  {
   "cell_type": "code",
   "execution_count": null,
   "metadata": {},
   "outputs": [],
   "source": [
    "class BernoulliA(QuantumCircuit):\n",
    "    \"\"\"A circuit representing the Bernoulli A operator.\"\"\"\n",
    "\n",
    "    def __init__(self, probability):\n",
    "        super().__init__(1)  # circuit on 1 qubit\n",
    "\n",
    "        theta_p = 2 * np.arcsin(np.sqrt(probability))\n",
    "        self.ry(theta_p, 0)\n"
   ]
  },
  {
   "cell_type": "code",
   "execution_count": null,
   "metadata": {},
   "outputs": [],
   "source": [
    "class BernoulliQ(QuantumCircuit):\n",
    "    \"\"\"A circuit representing the Bernoulli Q operator.\"\"\"\n",
    "\n",
    "    def __init__(self, probability):\n",
    "        super().__init__(1)  # circuit on 1 qubit\n",
    "\n",
    "        self._theta_p = 2 * np.arcsin(np.sqrt(probability))\n",
    "        self.ry(2 * self._theta_p, 0)\n",
    "\n",
    "    def power(self, k):\n",
    "        # implement the efficient power of Q\n",
    "        q_k = QuantumCircuit(1)\n",
    "        q_k.ry(2 * k * self._theta_p, 0)\n",
    "        return q_k"
   ]
  },
  {
   "cell_type": "code",
   "execution_count": null,
   "metadata": {},
   "outputs": [],
   "source": [
    "A = BernoulliA(p)\n",
    "Q = BernoulliQ(p)"
   ]
  },
  {
   "cell_type": "markdown",
   "metadata": {},
   "source": [
    "# Canonical AE\n"
   ]
  },
  {
   "cell_type": "code",
   "execution_count": null,
   "metadata": {},
   "outputs": [],
   "source": [
    "problem = EstimationProblem(\n",
    "    state_preparation=A,  # A operator\n",
    "    grover_operator=Q,  # Q operator\n",
    "    objective_qubits=[0],  # the \"good\" state Psi1 is identified as measuring |1> in qubit 0\n",
    ")"
   ]
  },
  {
   "cell_type": "code",
   "execution_count": null,
   "metadata": {},
   "outputs": [],
   "source": [
    "sampler = Sampler()"
   ]
  },
  {
   "cell_type": "code",
   "execution_count": null,
   "metadata": {},
   "outputs": [],
   "source": [
    "#  QAE implementation by Brassard et al. \n",
    "ae = AmplitudeEstimation(\n",
    "    num_eval_qubits=3,  # the number of evaluation qubits specifies circuit width and accuracy\n",
    "    sampler=sampler,\n",
    ")\n",
    "\n",
    "ae_result = ae.estimate(problem)"
   ]
  },
  {
   "cell_type": "code",
   "execution_count": null,
   "metadata": {},
   "outputs": [],
   "source": []
  },
  {
   "cell_type": "code",
   "execution_count": null,
   "metadata": {},
   "outputs": [],
   "source": [
    "print(ae_result.estimation)\n",
    "print(ae_result.mle)"
   ]
  },
  {
   "cell_type": "code",
   "execution_count": null,
   "metadata": {},
   "outputs": [],
   "source": [
    "ae_circuit = ae.construct_circuit(problem)\n",
    "ae_circuit.decompose().draw(\n",
    "    \"mpl\", style=\"clifford\"\n",
    ").savefig(f\"../circuits/cae.png\", dpi=_dpi,bbox_inches='tight')"
   ]
  },
  {
   "cell_type": "code",
   "execution_count": null,
   "metadata": {},
   "outputs": [],
   "source": [
    "basis_gates = [\"h\", \"ry\", \"cry\", \"cx\", \"ccx\", \"p\", \"cp\", \"x\", \"s\", \"sdg\", \"y\", \"t\", \"cz\"]\n",
    "ae_circuit_transpiled = transpile(ae_circuit, basis_gates=basis_gates, optimization_level=2)\n",
    "ae_circuit_transpiled.draw(\"mpl\", style=\"clifford\").savefig(f\"../circuits/cae_transpiled.png\", dpi=_dpi,bbox_inches='tight')"
   ]
  },
  {
   "cell_type": "markdown",
   "metadata": {},
   "source": [
    "# Iterative Amplitude Estimation"
   ]
  },
  {
   "cell_type": "code",
   "execution_count": null,
   "metadata": {},
   "outputs": [],
   "source": [
    "iae = IterativeAmplitudeEstimation(\n",
    "    epsilon_target=0.01,  # target accuracy\n",
    "    alpha=0.05,  # width of the confidence interval\n",
    "    sampler=sampler,\n",
    ")\n",
    "iae_result = iae.estimate(problem)\n",
    "\n",
    "print(\"Estimate:\", iae_result.estimation)"
   ]
  },
  {
   "cell_type": "code",
   "execution_count": null,
   "metadata": {},
   "outputs": [],
   "source": [
    "iae_circuit = iae.construct_circuit(problem, k=3)\n",
    "iae_circuit.draw(\"mpl\", style=\"clifford\").savefig(f\"../circuits/iae.png\", dpi=_dpi,bbox_inches='tight')"
   ]
  },
  {
   "cell_type": "markdown",
   "metadata": {},
   "source": [
    "# Maximum Likelihood Amplitude Estimation"
   ]
  },
  {
   "cell_type": "code",
   "execution_count": null,
   "metadata": {},
   "outputs": [],
   "source": [
    "mlae = MaximumLikelihoodAmplitudeEstimation(\n",
    "    evaluation_schedule=3,  # log2 of the maximal Grover power\n",
    "    sampler=sampler,\n",
    ")\n",
    "mlae_result = mlae.estimate(problem)\n",
    "\n",
    "print(\"Estimate:\", mlae_result.estimation)"
   ]
  },
  {
   "cell_type": "code",
   "execution_count": null,
   "metadata": {},
   "outputs": [],
   "source": [
    "mlae_circuit = mlae.construct_circuits(problem) # creates a list of 4 circuits, one for each of the evaluation schedules\n",
    "\n",
    "for i, circuit in enumerate(mlae_circuit):\n",
    "    circuit.draw(\"mpl\", style=\"clifford\").savefig(f\"../circuits/mlae_circuit_{i}.png\", dpi=_dpi,bbox_inches='tight')"
   ]
  },
  {
   "cell_type": "code",
   "execution_count": null,
   "metadata": {},
   "outputs": [],
   "source": [
    "# Number of circuits\n",
    "num_circuits = len(mlae_circuit)\n",
    "\n",
    "# Create subplots (adjust rows and columns as needed)\n",
    "fig, axes = plt.subplots(nrows=num_circuits, ncols=1, figsize=(10, 5 * num_circuits))\n",
    "\n",
    "# Ensure axes is iterable even for one circuit\n",
    "if num_circuits == 1:\n",
    "    axes = [axes]\n",
    "\n",
    "# Draw each circuit on a subplot\n",
    "for i, (ax, circuit) in enumerate(zip(axes, mlae_circuit)):\n",
    "    circuit.draw(\"mpl\", style=\"clifford\", ax=ax)\n",
    "    ax.set_title(f\"Circuit Utilised for {ordinal(i+1)} estimation\", fontsize=24)  # Set label for each subplot\n",
    "\n",
    "# Adjust layout\n",
    "plt.tight_layout()\n",
    "\n",
    "# Save the combined image\n",
    "plt.savefig(\"../circuits/combined_mlae_circuits.png\", dpi=_dpi)"
   ]
  },
  {
   "cell_type": "markdown",
   "metadata": {},
   "source": [
    "# Faster Amplitude Estimation"
   ]
  },
  {
   "cell_type": "code",
   "execution_count": null,
   "metadata": {},
   "outputs": [],
   "source": [
    "fae = FasterAmplitudeEstimation(\n",
    "    delta=0.01,  # target accuracy\n",
    "    maxiter=3,  # determines the maximal power of the Grover operator\n",
    "    sampler=sampler,\n",
    ")\n",
    "fae_result = fae.estimate(problem)\n",
    "\n",
    "print(\"Estimate:\", fae_result.estimation)"
   ]
  },
  {
   "cell_type": "code",
   "execution_count": null,
   "metadata": {},
   "outputs": [],
   "source": [
    "fae_circuit = fae.construct_circuit(problem, k =3)\n",
    "fae_circuit.draw(\"mpl\", style=\"clifford\").savefig(f\"../circuits/fae.png\", dpi=_dpi,bbox_inches='tight')"
   ]
  },
  {
   "cell_type": "code",
   "execution_count": null,
   "metadata": {},
   "outputs": [],
   "source": [
    "results = {\n",
    "    \"Canonical AE\" : (ae_circuit_transpiled, ae_result.estimation),\n",
    "    \"Canonical AE MLE\" : (ae_circuit_transpiled, ae_result.mle),\n",
    "    \"Iterative Amplitude Estimation\": (iae_circuit, iae_result.estimation),\n",
    "    \"Maximum Likelihood Amplitude Estimation\": (mlae_circuit, mlae_result.estimation),\n",
    "    \"Faster Amplitude Estimation\": (fae_circuit, fae_result.estimation)  \n",
    "}"
   ]
  },
  {
   "cell_type": "markdown",
   "metadata": {},
   "source": []
  },
  {
   "cell_type": "code",
   "execution_count": null,
   "metadata": {},
   "outputs": [],
   "source": [
    "def abs_error(m1,m2):\n",
    "    return abs(m1 - m2)\n",
    "\n",
    "def relative_error(m1,m2):\n",
    "    return abs_error(m1,m2)/abs(m1)\n",
    "\n",
    "def mse(m1,m2):\n",
    "    return (m2 - m1) ** 2"
   ]
  },
  {
   "cell_type": "code",
   "execution_count": null,
   "metadata": {},
   "outputs": [],
   "source": [
    "def circuits_to_dataframe(circuits_dict):\n",
    "    data = []\n",
    "    \n",
    "    for name, data_circuit in circuits_dict.items():\n",
    "        qc = data_circuit[0]\n",
    "        if not isinstance(qc, list):\n",
    "            num_qubits = qc.num_qubits\n",
    "            num_clbits = qc.num_clbits\n",
    "            depth = qc.depth()\n",
    "            samples = qc.depth()\n",
    "        else:\n",
    "            num_qubits = 0\n",
    "            num_clbits = 0\n",
    "            depth_list = []\n",
    "            samples = len(qc)\n",
    "            for circuit in qc:\n",
    "                num_qubits += circuit.num_qubits\n",
    "                num_clbits += circuit.num_clbits\n",
    "                depth_list.append(circuit.depth())\n",
    "                \n",
    "            depth = max(depth_list)\n",
    "                \n",
    "            \n",
    "        \n",
    "        result = data_circuit[1]\n",
    "        \n",
    "        print(p, result)\n",
    "\n",
    "        \n",
    "        # Store all data in a row\n",
    "        row = {\"Circuit Name\": name, \"Samples\": samples,\"Qubits\": num_qubits, \"Classical Bits\": num_clbits, \"Depth\": depth, \"Estimated Value\": result, 'Absolute Error': abs_error(p, result), 'Relative Error': relative_error(p, result), 'MSE': mse(p, result)}\n",
    "        data.append(row)\n",
    "    \n",
    "    # Convert to DataFrame\n",
    "    df = pd.DataFrame(data)\n",
    "    \n",
    "    return df"
   ]
  },
  {
   "cell_type": "code",
   "execution_count": null,
   "metadata": {},
   "outputs": [],
   "source": [
    "df = circuits_to_dataframe(results)\n",
    "\n",
    "# Display DataFrame\n",
    "print(df)\n",
    "df_latex = df[[\"Circuit Name\",\"Absolute Error\", \"Relative Error\" ,\"MSE\"]].copy()\n",
    "df_circuit = df[[\"Circuit Name\", \"Samples\", \"Qubits\", \"Classical Bits\", \"Depth\", \"Estimated Value\"]]\n",
    "for column in [\"Absolute Error\", \"Relative Error\" ,\"MSE\"]:\n",
    "    df_latex[column] = df[column].map(lambda x: f\"{x:.6e}\")\n",
    "df_circuit[\"Estimated Value\"] = df[\"Estimated Value\"].map(lambda x: f\"{x:.10f}\")\n",
    "print(df_latex.to_latex(index=False))\n",
    "\n",
    "print(\"\\n\")\n",
    "\n",
    "print(df_circuit.to_latex(index=False))"
   ]
  },
  {
   "cell_type": "markdown",
   "metadata": {},
   "source": []
  }
 ],
 "metadata": {
  "kernelspec": {
   "display_name": "Python 3",
   "language": "python",
   "name": "python3"
  },
  "language_info": {
   "codemirror_mode": {
    "name": "ipython",
    "version": 3
   },
   "file_extension": ".py",
   "mimetype": "text/x-python",
   "name": "python",
   "nbconvert_exporter": "python",
   "pygments_lexer": "ipython3",
   "version": "3.12.5"
  }
 },
 "nbformat": 4,
 "nbformat_minor": 2
}
