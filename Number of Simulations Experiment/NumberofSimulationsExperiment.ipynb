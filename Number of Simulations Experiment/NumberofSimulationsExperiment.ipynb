{
 "cells": [
  {
   "cell_type": "code",
   "execution_count": null,
   "metadata": {},
   "outputs": [],
   "source": [
    "import pennylane as qml\n",
    "import numpy as np\n",
    "from scipy.stats import norm\n",
    "import matplotlib.pyplot as plt\n",
    "import matplotlib.patches as patches\n",
    "import math\n",
    "import pandas as pd"
   ]
  },
  {
   "cell_type": "code",
   "execution_count": null,
   "metadata": {},
   "outputs": [],
   "source": [
    "def abs_error(m1, m2):\n",
    "    return abs(m1 - m2)\n",
    "\n",
    "\n",
    "def relative_error(m1, m2):\n",
    "    return abs_error(m1, m2) / abs(m1)\n",
    "\n",
    "\n",
    "def mse(m1, m2, variance) -> float:\n",
    "    return math.sqrt(abs(m1 - m2) ** 2 + variance)\n",
    "\n",
    "\n",
    "def print_data(name, mean, true_mean, samples__, variance):\n",
    "    return {\n",
    "        \"Name\": name,\n",
    "        \"Mean\": mean,\n",
    "        \"Absolute Error\": abs_error(true_mean, mean),\n",
    "        \"Relative Error\": relative_error(true_mean, mean),\n",
    "        \"MSE\": mse(true_mean, mean, variance),\n",
    "        \"Variance\": variance,\n",
    "        \"Samples\": samples__,\n",
    "    }"
   ]
  },
  {
   "cell_type": "code",
   "execution_count": null,
   "metadata": {},
   "outputs": [],
   "source": [
    "m = 5\n",
    "M = 2**m\n",
    "\n",
    "xmax = np.pi\n",
    "xs = np.linspace(-xmax, xmax, M)\n",
    "\n",
    "probs = np.array([norm().pdf(x) for x in xs])\n",
    "probs /= np.sum(probs)"
   ]
  },
  {
   "cell_type": "code",
   "execution_count": null,
   "metadata": {},
   "outputs": [],
   "source": [
    "samples = []\n",
    "for i in range(1, 7):\n",
    "    samples_qmc = 2**i\n",
    "    error = 1 / samples_qmc\n",
    "    samples_mc = round(1 / error**2)\n",
    "\n",
    "    samples.append(\n",
    "        {\n",
    "            \"Error\": error,\n",
    "            \"Classical Samples\": samples_mc,\n",
    "            \"Quantum Samples\": samples_qmc,\n",
    "        }\n",
    "    )\n",
    "\n",
    "\n",
    "df_samples = pd.DataFrame(samples)\n",
    "quantum_samples = [int(math.log2(n)) for n in df_samples[\"Quantum Samples\"].to_list()]\n",
    "classical_samples = df_samples[\"Classical Samples\"].to_list()\n",
    "\n",
    "print(df_samples)\n",
    "print(df_samples.to_latex(index=False, float_format=\"%.4f\"))"
   ]
  },
  {
   "cell_type": "code",
   "execution_count": null,
   "metadata": {},
   "outputs": [],
   "source": [
    "def func_f(x):\n",
    "    return np.sin(x) ** 2\n",
    "\n",
    "\n",
    "true_mean = math.sinh(1) / math.exp(1)\n",
    "\n",
    "\n",
    "def mc_mean(numSamples):\n",
    "    sampleData = []\n",
    "    for _ in range(numSamples):\n",
    "        sampleData.append(np.random.choice(xs, p=probs))\n",
    "    values: list = func_f(sampleData)\n",
    "    MCMean: float = np.mean(values)\n",
    "    return MCMean, numSamples"
   ]
  },
  {
   "cell_type": "code",
   "execution_count": null,
   "metadata": {},
   "outputs": [],
   "source": [
    "mse_values = []\n",
    "abs_values = []\n",
    "num_samples_cmc = []\n",
    "data_cmc = []\n",
    "variances = []\n",
    "abs_values = []\n",
    "\n",
    "for samples_ in classical_samples:\n",
    "    num_samples_cmc.append(samples_)\n",
    "    answer, num = mc_mean(samples_)\n",
    "\n",
    "    results = []\n",
    "    for _ in range(5):\n",
    "        result, numSamples = mc_mean(samples_)\n",
    "        results.append(result)\n",
    "\n",
    "    variance = np.var(results)\n",
    "\n",
    "    answer = print_data(\n",
    "        \"MC Mean\",\n",
    "        mean=answer,\n",
    "        true_mean=true_mean,\n",
    "        samples__=numSamples,\n",
    "        variance=variance,\n",
    "    )\n",
    "\n",
    "    data_cmc.append(answer)\n",
    "    mse_values.append(answer.get(\"MSE\"))"
   ]
  },
  {
   "cell_type": "code",
   "execution_count": null,
   "metadata": {},
   "outputs": [],
   "source": [
    "df_cmc = pd.DataFrame(data_cmc)\n",
    "print(df_cmc)\n",
    "df_cmc = df_cmc.drop(\"Name\", axis=1)\n",
    "print(\n",
    "    df_cmc.to_latex(\n",
    "        index=False,\n",
    "    )\n",
    ")"
   ]
  },
  {
   "cell_type": "code",
   "execution_count": null,
   "metadata": {},
   "outputs": [],
   "source": [
    "plt.figure(figsize=(10, 6))\n",
    "plt.plot(num_samples_cmc, mse_values, marker=\"o\", linestyle=\"-\", color=\"b\")\n",
    "plt.xscale(\"log\")\n",
    "plt.yscale(\"log\")\n",
    "plt.xlabel(\"Number of Samples (log scale)\")\n",
    "plt.ylabel(\"Mean Square Error (log scale)\")\n",
    "plt.title(\"Mean Square Error vs Number of Samples for Classical Monte Carlo\")\n",
    "plt.grid(True, which=\"both\", linestyle=\"--\", linewidth=0.5)\n",
    "plt.show()"
   ]
  },
  {
   "cell_type": "code",
   "execution_count": null,
   "metadata": {},
   "outputs": [],
   "source": [
    "# TODO Quantum Amplitude Estimation"
   ]
  },
  {
   "cell_type": "code",
   "execution_count": null,
   "metadata": {},
   "outputs": [],
   "source": [
    "def func(i):\n",
    "    return np.sin(xs[i]) ** 2\n",
    "\n",
    "\n",
    "mse_values_qc = []\n",
    "num_samples = []\n",
    "data = []\n",
    "for n in quantum_samples:\n",
    "    num_samples.append(2**n)\n",
    "    N = 2**n\n",
    "\n",
    "    target_wires = range(m + 1)\n",
    "    estimation_wires = range(m + 1, n + m + 1)\n",
    "\n",
    "    dev = qml.device(\"default.qubit\", wires=(n + m + 1))\n",
    "\n",
    "    @qml.qnode(dev)\n",
    "    def circuit():\n",
    "        qml.templates.QuantumMonteCarlo(\n",
    "            probs,\n",
    "            func,\n",
    "            target_wires=target_wires,\n",
    "            estimation_wires=estimation_wires,\n",
    "        )\n",
    "        return qml.probs(estimation_wires)\n",
    "\n",
    "    results = []\n",
    "    for _ in range(4, 17):\n",
    "        qmc_probs = circuit()\n",
    "        phase_estimated = np.argmax(circuit()[: int(N / 2)]) / N\n",
    "        answer = (1 - np.cos(np.pi * phase_estimated)) / 2\n",
    "        results.append(answer)\n",
    "    variance = np.var(results)\n",
    "    answer = np.mean(results)\n",
    "\n",
    "    format_data = print_data(\"QMC\", answer, true_mean, 2**n, variance=variance)\n",
    "\n",
    "    mse_values_qc.append(format_data.get(\"MSE\"))\n",
    "    data.append(format_data)"
   ]
  },
  {
   "cell_type": "code",
   "execution_count": null,
   "metadata": {},
   "outputs": [],
   "source": [
    "fig, ax = qml.draw_mpl(circuit, level=\"device\", style=\"black_white\")()\n",
    "fig.savefig(f\"../circuits/pl_qmc.png\", dpi=330, bbox_inches=\"tight\")"
   ]
  },
  {
   "cell_type": "code",
   "execution_count": null,
   "metadata": {},
   "outputs": [],
   "source": [
    "df = pd.DataFrame(data)\n",
    "print(df)\n",
    "df = df.drop(\"Name\", axis=1)\n",
    "print(\n",
    "    df.to_latex(\n",
    "        index=False,\n",
    "    )\n",
    ")"
   ]
  },
  {
   "cell_type": "code",
   "execution_count": null,
   "metadata": {},
   "outputs": [],
   "source": [
    "abs_error_list = df[\"Absolute Error\"].to_list()\n",
    "samples_numbers = df[\"Samples\"].to_list()\n",
    "\n",
    "\n",
    "plt.plot(samples_numbers, mse_values_qc, marker=\"o\", linestyle=\"-\", color=\"b\")\n",
    "plt.xlabel(\"Number of Samples\", fontsize=16)\n",
    "plt.ylabel(\"Absolute Error\", fontsize=16)\n",
    "plt.xscale(\"log\", base=10)\n",
    "plt.yscale(\"log\")\n",
    "plt.grid(True, which=\"both\", linestyle=\"--\", linewidth=0.5)\n",
    "plt.title(\"Mean Square Error vs Number of Samples for Quantum Monte Carlo\")"
   ]
  },
  {
   "cell_type": "code",
   "execution_count": null,
   "metadata": {},
   "outputs": [],
   "source": [
    "samples_numbers = df[\"Samples\"].to_list()\n",
    "\n",
    "plt.plot(\n",
    "    samples_numbers,\n",
    "    mse_values_qc,\n",
    "    marker=\"o\",\n",
    "    linestyle=\"-\",\n",
    "    color=\"b\",\n",
    "    label=\"Quantum Monte Carlo\",\n",
    ")\n",
    "plt.plot(\n",
    "    num_samples_cmc,\n",
    "    mse_values,\n",
    "    marker=\"o\",\n",
    "    linestyle=\"-\",\n",
    "    color=\"g\",\n",
    "    label=\"Classical Monte Carlo\",\n",
    ")\n",
    "plt.legend()\n",
    "plt.xlabel(\"Number of Samples\", fontsize=16)\n",
    "plt.ylabel(\"Mean Square Error\", fontsize=16)\n",
    "plt.xscale(\"log\", base=10)\n",
    "plt.yscale(\"log\")\n",
    "plt.grid(True, which=\"both\", linestyle=\"--\", linewidth=0.5)\n",
    "plt.title(\"Mean Square Error vs Number of Samples of CMC and QMC\")"
   ]
  }
 ],
 "metadata": {
  "kernelspec": {
   "display_name": "Python 3",
   "language": "python",
   "name": "python3"
  },
  "language_info": {
   "codemirror_mode": {
    "name": "ipython",
    "version": 3
   },
   "file_extension": ".py",
   "mimetype": "text/x-python",
   "name": "python",
   "nbconvert_exporter": "python",
   "pygments_lexer": "ipython3",
   "version": "3.12.5"
  }
 },
 "nbformat": 4,
 "nbformat_minor": 2
}
