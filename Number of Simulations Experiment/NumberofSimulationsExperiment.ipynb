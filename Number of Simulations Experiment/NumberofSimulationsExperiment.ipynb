{
 "cells": [
  {
   "cell_type": "code",
   "execution_count": null,
   "metadata": {},
   "outputs": [],
   "source": [
    "import pennylane as qml\n",
    "import numpy as np\n",
    "from scipy.stats import norm\n",
    "import matplotlib.pyplot as plt\n",
    "import math\n",
    "import pandas as pd"
   ]
  },
  {
   "cell_type": "code",
   "execution_count": null,
   "metadata": {},
   "outputs": [],
   "source": [
    "def func_f(x):\n",
    "    return np.sin(x) ** 2\n",
    "\n",
    "true_mean = math.sinh(1) / math.exp(1)\n",
    "\n",
    "def mc_mean(numSamples):\n",
    "    sampleData: list = np.random.randn(numSamples, 1)\n",
    "    values: list = func_f(sampleData)\n",
    "    MCMean: float = np.mean(values)\n",
    "    return \"MC Mean\", MCMean, true_mean, numSamples"
   ]
  },
  {
   "cell_type": "code",
   "execution_count": null,
   "metadata": {},
   "outputs": [],
   "source": [
    "mse_values = []\n",
    "num_samples = []\n",
    "data = []\n",
    "variances = []\n",
    "\n",
    "for i in range(5):\n",
    "    samples = 10 ** i\n",
    "    num_samples.append(samples)\n",
    "    answer = mc_mean(samples)\n",
    "    \n",
    "    results = []\n",
    "    for _ in range(5):\n",
    "        result = mc_mean(samples)\n",
    "        results.append(result['Mean']) \n",
    "    variance = np.var(results)\n",
    "       \n",
    "    answer[\"Variance\"] = variance\n",
    "    \n",
    "    data.append(answer)\n",
    "    mse_values.append(answer.get('mse'))"
   ]
  },
  {
   "cell_type": "code",
   "execution_count": null,
   "metadata": {},
   "outputs": [],
   "source": [
    "def abs_error(m1,m2):\n",
    "    return abs(m1 - m2)\n",
    "\n",
    "def relative_error(m1,m2):\n",
    "    return abs_error(m1,m2)/abs(m1)\n",
    "\n",
    "def mse(m1,m2):\n",
    "    return (m2 - m1) ** 2\n",
    "\n",
    "def print_data(name, mean, true_mean, samples):\n",
    "    return({'Name': name, 'Mean': mean, 'Absolute Error': abs_error(true_mean, mean), 'Relative Error': relative_error(true_mean, mean), 'MSE': mse(true_mean, mean), 'Samples': samples})"
   ]
  }
 ],
 "metadata": {
  "kernelspec": {
   "display_name": "Python 3",
   "language": "python",
   "name": "python3"
  },
  "language_info": {
   "name": "python",
   "version": "3.12.5"
  }
 },
 "nbformat": 4,
 "nbformat_minor": 2
}
