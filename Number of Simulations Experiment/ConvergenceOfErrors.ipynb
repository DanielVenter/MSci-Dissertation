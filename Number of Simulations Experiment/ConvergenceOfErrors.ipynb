{
 "cells": [
  {
   "cell_type": "code",
   "execution_count": 2,
   "metadata": {},
   "outputs": [
    {
     "name": "stderr",
     "output_type": "stream",
     "text": [
      "<>:21: SyntaxWarning: invalid escape sequence '\\s'\n",
      "<>:21: SyntaxWarning: invalid escape sequence '\\s'\n",
      "C:\\Users\\danie\\AppData\\Local\\Temp\\ipykernel_22516\\940843066.py:21: SyntaxWarning: invalid escape sequence '\\s'\n",
      "  plt.title(\"Comparison of $1/e$ vs $1/\\sqrt{N}$ in Monte Carlo\")\n",
      "C:\\Users\\danie\\AppData\\Local\\Temp\\ipykernel_22516\\940843066.py:21: SyntaxWarning: invalid escape sequence '\\s'\n",
      "  plt.title(\"Comparison of $1/e$ vs $1/\\sqrt{N}$ in Monte Carlo\")\n"
     ]
    },
    {
     "ename": "ModuleNotFoundError",
     "evalue": "No module named 'numpy'",
     "output_type": "error",
     "traceback": [
      "\u001b[1;31m---------------------------------------------------------------------------\u001b[0m",
      "\u001b[1;31mModuleNotFoundError\u001b[0m                       Traceback (most recent call last)",
      "Cell \u001b[1;32mIn[2], line 1\u001b[0m\n\u001b[1;32m----> 1\u001b[0m \u001b[38;5;28;01mimport\u001b[39;00m\u001b[38;5;250m \u001b[39m\u001b[38;5;21;01mnumpy\u001b[39;00m\u001b[38;5;250m \u001b[39m\u001b[38;5;28;01mas\u001b[39;00m\u001b[38;5;250m \u001b[39m\u001b[38;5;21;01mnp\u001b[39;00m\n\u001b[0;32m      2\u001b[0m \u001b[38;5;28;01mimport\u001b[39;00m\u001b[38;5;250m \u001b[39m\u001b[38;5;21;01mmatplotlib\u001b[39;00m\u001b[38;5;21;01m.\u001b[39;00m\u001b[38;5;21;01mpyplot\u001b[39;00m\u001b[38;5;250m \u001b[39m\u001b[38;5;28;01mas\u001b[39;00m\u001b[38;5;250m \u001b[39m\u001b[38;5;21;01mplt\u001b[39;00m\n\u001b[0;32m      4\u001b[0m \u001b[38;5;66;03m# Define the range of N values\u001b[39;00m\n",
      "\u001b[1;31mModuleNotFoundError\u001b[0m: No module named 'numpy'"
     ]
    }
   ],
   "source": [
    "import numpy as np\n",
    "import matplotlib.pyplot as plt\n",
    "\n",
    "# Define the range of N values\n",
    "N = np.linspace(1, 100, 100)\n",
    "\n",
    "# Compute 1/e and 1/sqrt(N) values\n",
    "one_over_e = np.full_like(N, 1/np.e)\n",
    "one_over_N = 1/ N\n",
    "one_over_sqrt_N = 1 / np.sqrt(N)\n",
    "\n",
    "# Plot the curves\n",
    "plt.figure(figsize=(8, 5))\n",
    "plt.plot(N, one_over_e, label=r\"$1/e$\", linestyle=\"--\", color=\"red\")\n",
    "plt.plot(N, one_over_N, label=r\"$1/N$\", linestyle=\"--\", color=\"green\")\n",
    "plt.plot(N, one_over_sqrt_N, label=r\"$1/\\sqrt{N}$\", linestyle=\"-\", color=\"blue\")\n",
    "\n",
    "# Labels and legend\n",
    "plt.xlabel(\"Number of Samples (N)\")\n",
    "plt.ylabel(\"Error Magnitude\")\n",
    "plt.title(\"Comparison of $1/e$ vs $1/\\sqrt{N}$ in Monte Carlo\")\n",
    "plt.legend()\n",
    "plt.grid(True)\n",
    "\n",
    "# Show plot\n",
    "plt.show()\n"
   ]
  }
 ],
 "metadata": {
  "kernelspec": {
   "display_name": "Python 3",
   "language": "python",
   "name": "python3"
  },
  "language_info": {
   "codemirror_mode": {
    "name": "ipython",
    "version": 3
   },
   "file_extension": ".py",
   "mimetype": "text/x-python",
   "name": "python",
   "nbconvert_exporter": "python",
   "pygments_lexer": "ipython3",
   "version": "3.12.8"
  }
 },
 "nbformat": 4,
 "nbformat_minor": 2
}
