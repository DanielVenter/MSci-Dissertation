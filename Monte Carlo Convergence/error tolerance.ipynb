{
 "cells": [
  {
   "cell_type": "code",
   "execution_count": null,
   "metadata": {},
   "outputs": [],
   "source": [
    "import numpy as np\n",
    "import matplotlib.pyplot as plt"
   ]
  },
  {
   "cell_type": "code",
   "execution_count": null,
   "metadata": {},
   "outputs": [],
   "source": [
    "\n",
    "epsilon = np.logspace(-2, 0, 100)  # Error ranging from 0.01 to 1\n",
    "\n",
    "\n",
    "classical_mc_samples = 1 / (epsilon ** 2)  # O(1/ε²)\n",
    "qpe_samples = 1 / epsilon  # O(1/ε)\n",
    "qae_samples = 1 / epsilon  # O(1/ε)\n",
    "\n",
    "# Plot the required number of samples vs. error tolerance\n",
    "plt.figure(figsize=(8, 6))\n",
    "plt.plot(epsilon, classical_mc_samples, label='Classical MC: O(1/ε²)', linestyle='-', linewidth=2)\n",
    "plt.plot(epsilon, qpe_samples, label='Quantum MC (QPE): O(1/ε)', linestyle='--', linewidth=2)\n",
    "plt.plot(epsilon, qae_samples, label='Quantum MC (QAE): O(1/ε)', linestyle='-.', linewidth=2)\n",
    "\n",
    "# Labels and legend\n",
    "plt.xlabel('Error Tolerance (ε)')\n",
    "plt.ylabel('Required Number of Queries/Samples')\n",
    "plt.xscale('log')  # Log scale for better visualization\n",
    "plt.yscale('log')\n",
    "plt.title('Required Samples vs. Error Tolerance')\n",
    "plt.legend()\n",
    "plt.grid(True, which=\"both\", linestyle=\"--\", linewidth=0.5)\n",
    "\n",
    "# Show the plot\n",
    "plt.show()\n"
   ]
  }
 ],
 "metadata": {
  "kernelspec": {
   "display_name": "Python 3",
   "language": "python",
   "name": "python3"
  },
  "language_info": {
   "name": "python",
   "version": "3.12.8"
  }
 },
 "nbformat": 4,
 "nbformat_minor": 2
}
