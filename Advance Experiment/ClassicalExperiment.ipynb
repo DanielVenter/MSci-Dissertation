{
 "cells": [
  {
   "cell_type": "code",
   "execution_count": 6,
   "metadata": {},
   "outputs": [],
   "source": [
    "import numpy as np\n",
    "import matplotlib.pyplot as plt\n",
    "from scipy.stats import norm"
   ]
  },
  {
   "cell_type": "code",
   "execution_count": 134,
   "metadata": {},
   "outputs": [],
   "source": [
    "K = 5\n",
    "z_max = 2\n",
    "z_values = np.linspace(-z_max, z_max, 2**K)\n",
    "p_zeros = [0.15, 0.25, 0.5, 0.12, 0.32]\n",
    "rhos = [0.1, 0.05, 0.08, 0.03, 0.08]\n",
    "lgd = [1, 2, 3, 6, 2]\n",
    "alpha = 0.50\n",
    "num_samples = 10000\n",
    "\n",
    "z_pdf_values = norm.pdf(z_values, loc=0, scale=1)\n",
    "f_values = np.cumsum(z_pdf_values)\n",
    "f_values /= f_values[-1]\n",
    "f_inverse_values = [norm.ppf(value) for value in f_values]\n"
   ]
  },
  {
   "cell_type": "code",
   "execution_count": 95,
   "metadata": {},
   "outputs": [],
   "source": [
    "def calculate_pkz(probability_default, rho, z):\n",
    "    inside_bracket = ((np.interp(probability_default, z_values, f_inverse_values) - (np.sqrt(rho)) * z)/np.sqrt(1-rho))\n",
    "    \n",
    "    return np.interp(inside_bracket, z_values, f_values)"
   ]
  },
  {
   "cell_type": "code",
   "execution_count": 113,
   "metadata": {},
   "outputs": [],
   "source": [
    "def compute_var_cvar(lambda_k,X_k_samples, confidence_level):\n",
    "    expected_losses = np.dot(X_k_samples, lambda_k)  # Weighted sum of X_k(Z)\n",
    "\n",
    "    # Compute empirical VaR\n",
    "    alpha = 1 - confidence_level\n",
    "    var_threshold = np.percentile(expected_losses, alpha * 100)\n",
    "\n",
    "    # Compute empirical CVaR (Expected Shortfall)\n",
    "    cvar = expected_losses[expected_losses <= var_threshold].mean()\n",
    "\n",
    "    return var_threshold, cvar"
   ]
  },
  {
   "cell_type": "code",
   "execution_count": 91,
   "metadata": {},
   "outputs": [],
   "source": [
    "def bool_default(pkz):\n",
    "    compare_value = np.random.rand()\n",
    "    return compare_value < pkz"
   ]
  },
  {
   "cell_type": "code",
   "execution_count": 140,
   "metadata": {},
   "outputs": [],
   "source": [
    "def simulate():\n",
    "    default_states = []\n",
    "    for i in range(K):\n",
    "        z_i = np.random.choice(z_values)\n",
    "        pkz_i = calculate_pkz(p_zeros[i],rhos[i],z_i)\n",
    "        default_states.append(bool_default(pkz=pkz_i))\n",
    "        \n",
    "    return default_states"
   ]
  },
  {
   "cell_type": "code",
   "execution_count": 143,
   "metadata": {},
   "outputs": [],
   "source": [
    "simulations = []\n",
    "\n",
    "for x in range(num_samples):\n",
    "    simulations.append(simulate())\n"
   ]
  },
  {
   "cell_type": "code",
   "execution_count": 144,
   "metadata": {},
   "outputs": [
    {
     "name": "stdout",
     "output_type": "stream",
     "text": [
      "10.0 6.526114649681529\n"
     ]
    }
   ],
   "source": [
    "var, cvar = compute_var_cvar(lambda_k=lgd,X_k_samples=simulations,confidence_level=alpha)\n",
    "\n",
    "print(var, cvar)"
   ]
  }
 ],
 "metadata": {
  "kernelspec": {
   "display_name": "Python 3",
   "language": "python",
   "name": "python3"
  },
  "language_info": {
   "codemirror_mode": {
    "name": "ipython",
    "version": 3
   },
   "file_extension": ".py",
   "mimetype": "text/x-python",
   "name": "python",
   "nbconvert_exporter": "python",
   "pygments_lexer": "ipython3",
   "version": "3.12.5"
  }
 },
 "nbformat": 4,
 "nbformat_minor": 2
}
